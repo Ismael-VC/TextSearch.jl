{
 "cells": [
  {
   "cell_type": "markdown",
   "metadata": {},
   "source": [
    "# Text Search Engine in Julia\n",
    "\n",
    "Refactored by [Ismael Venegas](https://twitter.com/ismael_vc) from [*Searching for syntactic sugar, man*](http://a-coda.tumblr.com/post/149265834291/searching-for-syntactic-sugar-man) by [**Jason Trenouth**](https://twitter.com/JasonTrenouth).\n",
    "\n",
    "***\n",
    "\n",
    "## Importing functions that are going to be extended\n",
    "\n",
    "> I’m going to *define*¹ some new functions on some built-in operators so I need to import them. I wouldn’t need to do this if I was just using the operators.\n",
    "\n",
    "```julia\n",
    "import Base.&, Base.|, Base.-, Base.!\n",
    "```\n",
    "\n",
    "Or use the fully qualified name at the moment of definition:\n",
    "\n",
    "```julia\n",
    "Base.&(hits1::Set, hits2::Set) = intersect(hits1, hits2)\n",
    "```\n",
    "\n",
    "Or one could also use this other syntax:"
   ]
  },
  {
   "cell_type": "code",
   "execution_count": 1,
   "metadata": {
    "collapsed": true
   },
   "outputs": [],
   "source": [
    "import Base: &, |, -, !"
   ]
  },
  {
   "cell_type": "markdown",
   "metadata": {},
   "source": [
    "1. The *julian* term is *to extend* a generic function."
   ]
  },
  {
   "cell_type": "markdown",
   "metadata": {},
   "source": [
    "## Cross-version compatibility with [Compat](https://github.com/JuliaLang/Compat.jl)\n",
    "\n",
    "Just as an example of optional typing, I'm going to restring operations on `String`s:\n",
    "\n",
    "* In **v0.3** `String` is an abstract type with `ASCIIString` and `UTF8String` as subtypes, in **v0.4** it was renamed as `AbstractString`.\n",
    "* In **v0.5** `String` returns as the only type of string in Julia.\n",
    "* Compat defines `String` as `Union{ASCIIString, UTF8String}`.\n",
    "\n",
    "Also `Compat` provides a `waldir` function introduced in **v0.5**, so definifg the following function is not necessary:\n",
    "\n",
    "```julia\n",
    "function walk_directory(fn, directory)\n",
    "    for file in readdir(directory)\n",
    "        path = joinpath(directory, file)\n",
    "        if isdir(path)\n",
    "            walk_directory(fn, path)\n",
    "        else\n",
    "            fn(path)\n",
    "        end\n",
    "    end\n",
    "end\n",
    "```"
   ]
  },
  {
   "cell_type": "code",
   "execution_count": 2,
   "metadata": {
    "collapsed": false
   },
   "outputs": [],
   "source": [
    "import Compat: String, walkdir "
   ]
  },
  {
   "cell_type": "markdown",
   "metadata": {},
   "source": [
    "## Export the desired API functionality\n",
    "\n",
    "In this case only this 3 objects are exported (`Base: &, |, -, !` don't need to be exported since they are extending already existing functions).\n",
    "\n",
    "This package uses [NBInclude](https://github.com/stevengj/NBInclude.jl) which provides and `nbinclude` function similar to `include` in order to include the code in this [IJulia](https://github.com/JuliaLang/IJulia.jl) notebook:"
   ]
  },
  {
   "cell_type": "code",
   "execution_count": 3,
   "metadata": {
    "collapsed": true
   },
   "outputs": [],
   "source": [
    "export index_file, index_directory, @S_str"
   ]
  },
  {
   "cell_type": "markdown",
   "metadata": {},
   "source": [
    "## Global variables\n",
    "\n",
    "> I introduce “index” as a module variable because I want it to be the context for later operations. This is obviously a bit of a hack.\n",
    "\n",
    "When a variable is declared on the global scope, it's best to declare it also as `const` (which means constant **type**, not constant **value**) as this will aid the compiler to infer the type of the variable correctly (since a non constant global variable can change type at any point) and generate optimized code.\n",
    "\n",
    "It is also a good idea to name such variables in all upercase style and since this is a non exported object we could also prefix it with `_`.\n",
    "\n",
    "Note that I'm also adding here more optional typing to show it's use:"
   ]
  },
  {
   "cell_type": "code",
   "execution_count": 4,
   "metadata": {
    "collapsed": false
   },
   "outputs": [
    {
     "data": {
      "text/plain": [
       "Dict{ByteString,Set{ByteString}} with 0 entries"
      ]
     },
     "execution_count": 4,
     "metadata": {},
     "output_type": "execute_result"
    }
   ],
   "source": [
    "const _INDEX = Dict{String, Set{String}}()"
   ]
  },
  {
   "cell_type": "markdown",
   "metadata": {},
   "source": [
    "## One line function definitions\n",
    "\n",
    "> I can define simple functions as one-line expressions without much syntactic overhead."
   ]
  },
  {
   "cell_type": "code",
   "execution_count": 5,
   "metadata": {
    "collapsed": false
   },
   "outputs": [],
   "source": [
    "_tokenize(text::String) = map(lowercase, split(text))\n",
    "_all() = reduce(union, values(_INDEX))    # `all` already exist in julia also!"
   ]
  },
  {
   "cell_type": "markdown",
   "metadata": {},
   "source": [
    "Here I show another bit of syntactic sugar in the form of infix binary operators `∩` (`\\cap<TAB>`) for `intersect` and `∪` (`\\cup<TAB>`) for `union`. Also notice the use of `hits₁` (`hits\\_1<TAB>`) and `hits₂` (`hits\\_2<TAB>`) instead of `hits1` and `hits2` respectively:"
   ]
  },
  {
   "cell_type": "code",
   "execution_count": 6,
   "metadata": {
    "collapsed": true
   },
   "outputs": [],
   "source": [
    "# if `&` not in parenthesis: `ERROR: syntax: invalid assignment location`\n",
    "(&)(hits₁::Set{String}, hits₂::Set{String}) = hits₁ ∩ hits₂\n",
    "|(hits₁::Set{String}, hits₂::Set{String}) = hits₁ ∪ hits₂\n",
    "-(hits₁::Set{String}, hits₂::Set{String}) = setdiff(hits₁, hits₂)\n",
    "!(hits::Set{String}) = _all() - hits;"
   ]
  },
  {
   "cell_type": "markdown",
   "metadata": {},
   "source": [
    "## `do` blocks\n",
    "\n",
    "> The second trick is a bit of sugar (“->”) for defining an anonymous function.\n",
    "\n",
    "In this example I use the `do` syntax instead of the explicit anonymous function.\n",
    "\n",
    "> This is a Ruby-style do-block which is syntactic sugar for making an anonymous function out of the body of the block"
   ]
  },
  {
   "cell_type": "code",
   "execution_count": 7,
   "metadata": {
    "collapsed": false
   },
   "outputs": [],
   "source": [
    "function _lookup(terms)\n",
    "    mapreduce(intersect, _tokenize(terms)) do token\n",
    "        get(_INDEX, token, Set{String}())\n",
    "    end\n",
    "end;"
   ]
  },
  {
   "cell_type": "markdown",
   "metadata": {},
   "source": [
    "## Indexing functions"
   ]
  },
  {
   "cell_type": "code",
   "execution_count": 8,
   "metadata": {
    "collapsed": true
   },
   "outputs": [],
   "source": [
    "function index_file(file::String)\n",
    "    for word in _tokenize(open(readall, file))\n",
    "        push!(get!(_INDEX, word, Set{String}()), file)\n",
    "    end\n",
    "end\n",
    "\n",
    "function index_directory(directory, extension = \"\")\n",
    "    for (root, dirs, files) in walkdir(directory)\n",
    "        for file in files\n",
    "            if endswith(file, extension)\n",
    "                index_file(joinpath(root, file))\n",
    "            end\n",
    "        end\n",
    "    end\n",
    "end;"
   ]
  },
  {
   "cell_type": "markdown",
   "metadata": {},
   "source": [
    "## Non standard string literals\n",
    "\n",
    "Here I use `S_str` instead of `s_str`, since starting with **v0.4** `s_str` is a used to construct `SubstitutionString{String}`s:"
   ]
  },
  {
   "cell_type": "code",
   "execution_count": 9,
   "metadata": {
    "collapsed": true
   },
   "outputs": [],
   "source": [
    "macro S_str(terms)\n",
    "    _lookup(terms)\n",
    "end"
   ]
  },
  {
   "cell_type": "markdown",
   "metadata": {},
   "source": [
    "## Create package\n",
    "\n",
    "Simply use `Pkg.generate`:\n",
    "\n",
    "```julia\n",
    "julia> Pkg.generate(\"TextSearch\", \"MIT\")\n",
    "INFO: Initializing TextSearch repo: C:\\Users\\Ismael\\.julia\\v0.4\\TextSearch\n",
    "INFO: Generating LICENSE.md\n",
    "INFO: Generating README.md\n",
    "INFO: Generating src/TextSearch.jl\n",
    "INFO: Generating test/runtests.jl\n",
    "INFO: Generating REQUIRE\n",
    "INFO: Generating .travis.yml\n",
    "INFO: Generating appveyor.yml\n",
    "INFO: Generating .gitignore\n",
    "INFO: Committing TextSearch generated files\n",
    "```\n",
    "\n",
    "I also added an `examples` directory after the fact and populated `test/runtests.jl` with the usage examples bellow and `src` with this notebook. since we are using `NBInclude `the contents of `src/TextSearch.jl` is simply:\n",
    "\n",
    "```julia\n",
    "module TextSearch\n",
    "\n",
    "using NBInclude\n",
    "\n",
    "nbinclude(\"text_search.ipynb\")\n",
    "\n",
    "end # module\n",
    "\n",
    "```\n",
    "\n",
    "The contents of `REQUIRE` are like this:\n",
    "\n",
    "```julia\n",
    "julia 0.4\n",
    "Compat\n",
    "NBInclude\n",
    "```\n",
    "\n",
    "## Usage\n",
    "\n",
    "\n",
    "```julia\n",
    "julia> using TextSearch\n",
    "\n",
    "julia> cd(Pkg.dir(\"TextSearch\"))\n",
    "\n",
    "julia> index_directory(\"examples\", \".jl\")\n",
    "\n",
    "julia> TextSearch._INDEX\n",
    "Dict{ByteString,Set{ByteString}} with 83 entries:\n",
    "  \"∩\"                        => Set(Union{ASCIIString,UTF8String}[\"examples\\\\bazbar.…\n",
    "  \"push!(get!(_index,\"       => Set(Union{ASCIIString,UTF8String}[\"examples\\\\foobar.…\n",
    "  \"!\"                        => Set(Union{ASCIIString,UTF8String}[\"examples\\\\quz.jl\"…\n",
    "  \"=\"                        => Set(Union{ASCIIString,UTF8String}[\"examples\\\\bar.jl\"…\n",
    "  \"parenthesis:\"             => Set(Union{ASCIIString,UTF8String}[\"examples\\\\bazbar.…\n",
    "  \"import\"                   => Set(Union{ASCIIString,UTF8String}[\"examples\\\\quzqux.…\n",
    "  \"_all()\"                   => Set(Union{ASCIIString,UTF8String}[\"examples\\\\bazbar.…\n",
    "  \"index_file(file::string)\" => Set(Union{ASCIIString,UTF8String}[\"examples\\\\foobar.…\n",
    "  \"mapreduce(intersect,\"     => Set(Union{ASCIIString,UTF8String}[\"examples\\\\foo.jl\"…\n",
    "  \"else\"                     => Set(Union{ASCIIString,UTF8String}[\"examples\\\\bar.jl\"…\n",
    "  \"hits₁\"                    => Set(Union{ASCIIString,UTF8String}[\"examples\\\\bazbar.…\n",
    "  \"split(text))\"             => Set(Union{ASCIIString,UTF8String}[\"examples\\\\baz.jl\"…\n",
    "  \"#\"                        => Set(Union{ASCIIString,UTF8String}[\"examples\\\\bazbar.…\n",
    "  \"assignment\"               => Set(Union{ASCIIString,UTF8String}[\"examples\\\\bazbar.…\n",
    "  \"file)\"                    => Set(Union{ASCIIString,UTF8String}[\"examples\\\\bar.jl\"…\n",
    "  \"compat:\"                  => Set(Union{ASCIIString,UTF8String}[\"examples\\\\quzqux.…\n",
    "  \"end;\"                     => Set(Union{ASCIIString,UTF8String}[\"examples\\\\foobarb…\n",
    "  \"-\"                        => Set(Union{ASCIIString,UTF8String}[\"examples\\\\bazbar.…\n",
    "  \"_tokenize(terms))\"        => Set(Union{ASCIIString,UTF8String}[\"examples\\\\foo.jl\"…\n",
    "  \"setdiff(hits₁,\"           => Set(Union{ASCIIString,UTF8String}[\"examples\\\\bazbar.…\n",
    "  \"set{string}())\"           => Set(Union{ASCIIString,UTF8String}[\"examples\\\\foo.jl\"…\n",
    "  \"|(hits₁::set{string},\"    => Set(Union{ASCIIString,UTF8String}[\"examples\\\\bazbar.…\n",
    "  \"location`\"                => Set(Union{ASCIIString,UTF8String}[\"examples\\\\bazbar.…\n",
    "  \"path\"                     => Set(Union{ASCIIString,UTF8String}[\"examples\\\\bar.jl\"…\n",
    "  \"token,\"                   => Set(Union{ASCIIString,UTF8String}[\"examples\\\\foo.jl\"…\n",
    "  \"values(_index));\"         => Set(Union{ASCIIString,UTF8String}[\"examples\\\\baz.jl\"…\n",
    "  \"_tokenize(text::string)\"  => Set(Union{ASCIIString,UTF8String}[\"examples\\\\baz.jl\"…\n",
    "  \"(&)(hits₁::set{string},\"  => Set(Union{ASCIIString,UTF8String}[\"examples\\\\bazbar.…\n",
    "  \"in\"                       => Set(Union{ASCIIString,UTF8String}[\"examples\\\\bar.jl\"…\n",
    "  \"index_directory(director… => Set(Union{ASCIIString,UTF8String}[\"examples\\\\foobarb…\n",
    "  \"macro\"                    => Set(Union{ASCIIString,UTF8String}[\"examples\\\\qux.jl\"…\n",
    "  \"extension\"                => Set(Union{ASCIIString,UTF8String}[\"examples\\\\foobarb…\n",
    "  \"hits₂)\"                   => Set(Union{ASCIIString,UTF8String}[\"examples\\\\bazbar.…\n",
    "  \"do\"                       => Set(Union{ASCIIString,UTF8String}[\"examples\\\\foo.jl\"…\n",
    "  \"-,\"                       => Set(Union{ASCIIString,UTF8String}[\"examples\\\\quz.jl\"…\n",
    "  \"endswith(file,\"           => Set(Union{ASCIIString,UTF8String}[\"examples\\\\foobarb…\n",
    "  \"not\"                      => Set(Union{ASCIIString,UTF8String}[\"examples\\\\bazbar.…\n",
    "  \"-(hits₁::set{string},\"    => Set(Union{ASCIIString,UTF8String}[\"examples\\\\bazbar.…\n",
    "  \"set{string}()),\"          => Set(Union{ASCIIString,UTF8String}[\"examples\\\\foobar.…\n",
    "  \"walkdir(directory)\"       => Set(Union{ASCIIString,UTF8String}[\"examples\\\\foobarb…\n",
    "  \"`error:\"                  => Set(Union{ASCIIString,UTF8String}[\"examples\\\\bazbar.…\n",
    "  \"for\"                      => Set(Union{ASCIIString,UTF8String}[\"examples\\\\bar.jl\"…\n",
    "  \"map(lowercase,\"           => Set(Union{ASCIIString,UTF8String}[\"examples\\\\baz.jl\"…\n",
    "  \"∪\"                        => Set(Union{ASCIIString,UTF8String}[\"examples\\\\bazbar.…\n",
    "  \"get(_index,\"              => Set(Union{ASCIIString,UTF8String}[\"examples\\\\foo.jl\"…\n",
    "  \"function\"                 => Set(Union{ASCIIString,UTF8String}[\"examples\\\\bar.jl\"…\n",
    "  \"|,\"                       => Set(Union{ASCIIString,UTF8String}[\"examples\\\\quz.jl\"…\n",
    "  \"if\"                       => Set(Union{ASCIIString,UTF8String}[\"examples\\\\bar.jl\"…\n",
    "  \"(root,\"                   => Set(Union{ASCIIString,UTF8String}[\"examples\\\\foobarb…\n",
    "  \"isdir(path)\"              => Set(Union{ASCIIString,UTF8String}[\"examples\\\\bar.jl\"…\n",
    "  ⋮                          => ⋮\n",
    "\n",
    "julia> S\"∪\" & S\"∩\"\n",
    "Set(Union{ASCIIString,UTF8String}[\"examples\\\\bazbar.jl\"])\n",
    "\n",
    "julia> S\"∪\" | S\"end\"\n",
    "Set(Union{ASCIIString,UTF8String}[\"examples\\\\bazbar.jl\",\"examples\\\\bar.jl\",\"examples\\\\foo.jl\",\"examples\\\\foobar.jl\",\"examples\\\\qux.jl\",\"examples\\\\foobarbaz.jl\"])\n",
    "\n",
    "julia> S\"function\" - S\"=\"\n",
    "Set(Union{ASCIIString,UTF8String}[\"examples\\\\foo.jl\",\"examples\\\\foobar.jl\"])\n",
    "\n",
    "julia> S\"else\" & !S\"#\"\n",
    "Set(Union{ASCIIString,UTF8String}[\"examples\\\\bar.jl\"])\n",
    "```"
   ]
  }
 ],
 "metadata": {
  "kernelspec": {
   "display_name": "Julia 0.4.6",
   "language": "julia",
   "name": "julia-0.4"
  },
  "language_info": {
   "file_extension": ".jl",
   "mimetype": "application/julia",
   "name": "julia",
   "version": "0.4.6"
  }
 },
 "nbformat": 4,
 "nbformat_minor": 0
}
